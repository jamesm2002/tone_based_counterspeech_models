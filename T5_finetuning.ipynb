{
  "nbformat": 4,
  "nbformat_minor": 0,
  "metadata": {
    "colab": {
      "provenance": [],
      "machine_shape": "hm",
      "gpuType": "A100",
      "mount_file_id": "13kv_2UUWson_J4t7OJaM5RILKDGYna8e",
      "authorship_tag": "ABX9TyOyq1W0FeKsiC0cWZy0nFJo",
      "include_colab_link": true
    },
    "kernelspec": {
      "name": "python3",
      "display_name": "Python 3"
    },
    "language_info": {
      "name": "python"
    },
    "accelerator": "GPU"
  },
  "cells": [
    {
      "cell_type": "markdown",
      "metadata": {
        "id": "view-in-github",
        "colab_type": "text"
      },
      "source": [
        "<a href=\"https://colab.research.google.com/github/jamesm2002/tone_based_counterspeech_models/blob/main/T5_finetuning.ipynb\" target=\"_parent\"><img src=\"https://colab.research.google.com/assets/colab-badge.svg\" alt=\"Open In Colab\"/></a>"
      ]
    },
    {
      "cell_type": "markdown",
      "source": [],
      "metadata": {
        "id": "HgjK8QexQzE6"
      }
    },
    {
      "cell_type": "markdown",
      "source": [
        "# Counterspeech model T5 Training"
      ],
      "metadata": {
        "id": "zd91xxCeQtQK"
      }
    },
    {
      "cell_type": "code",
      "source": [
        "!pip install transformers datasets torch"
      ],
      "metadata": {
        "id": "jGvwnWFl4usk"
      },
      "execution_count": null,
      "outputs": []
    },
    {
      "cell_type": "code",
      "execution_count": null,
      "metadata": {
        "id": "FSPkKdDP4qya"
      },
      "outputs": [],
      "source": [
        "import torch\n",
        "from transformers import T5ForConditionalGeneration, T5Tokenizer, Trainer, TrainingArguments, get_scheduler\n",
        "from datasets import load_dataset\n",
        "from torch.optim import AdamW\n",
        "from transformers import TrainerCallback\n",
        "\n",
        "# load T5 tokenizer and model\n",
        "MODEL_NAME = \"google/flan-t5-large\"\n",
        "tokenizer = T5Tokenizer.from_pretrained(MODEL_NAME)\n",
        "model = T5ForConditionalGeneration.from_pretrained(MODEL_NAME)\n",
        "\n",
        "# load dataset and split into train/validation (90% train, 10% validation)\n",
        "dataset = load_dataset(\"csv\", data_files={\"train\": \"combined_CONAN_with_tone.csv\"})\n",
        "dataset = dataset[\"train\"].train_test_split(test_size=0.1)\n",
        "\n",
        "# preprocessing function\n",
        "def preprocess_function(examples):\n",
        "    tone_instructions = {\n",
        "        \"Inquisitive\": \"Ask a thoughtful question about the statement:\",\n",
        "        \"Confrontational\": \"Strongly refute the statement with counter-evidence:\",\n",
        "        \"Empathetic\": \"Acknowledge the concern but provide a hopeful perspective:\",\n",
        "        \"Conversational\": \"Respond in a casual and friendly way:\"\n",
        "    }\n",
        "\n",
        "    inputs = [\n",
        "        f\"{tone_instructions[tone]} {text}\"\n",
        "        for tone, text in zip(examples[\"TONE\"], examples[\"HATE_SPEECH\"])\n",
        "    ]\n",
        "    targets = examples[\"COUNTER_NARRATIVE\"]\n",
        "\n",
        "    model_inputs = tokenizer(inputs, max_length=150, truncation=True, padding=\"max_length\")\n",
        "    labels = tokenizer(targets, max_length=150, truncation=True, padding=\"max_length\")\n",
        "\n",
        "    model_inputs[\"labels\"] = labels[\"input_ids\"]\n",
        "    return model_inputs\n",
        "\n",
        "\n",
        "# tokenize dataset\n",
        "tokenized_datasets = dataset.map(preprocess_function, batched=True)\n",
        "\n",
        "# training arguments\n",
        "training_args = TrainingArguments(\n",
        "    output_dir=\"./t5-counterspeech\",\n",
        "    evaluation_strategy=\"epoch\",\n",
        "    save_strategy=\"epoch\",\n",
        "    per_device_train_batch_size=8,\n",
        "    per_device_eval_batch_size=8,\n",
        "    logging_dir=\"./logs\",\n",
        "    logging_steps=100,\n",
        "    learning_rate=1.5e-5,\n",
        "    lr_scheduler_type=\"cosine\",\n",
        "    warmup_ratio=0.02,\n",
        "    weight_decay=0.02,\n",
        "    num_train_epochs=9,\n",
        "    save_total_limit=2,\n",
        "    push_to_hub=False,\n",
        "    fp16=False,\n",
        "    max_grad_norm=1.0,\n",
        "    load_best_model_at_end=True,\n",
        "    metric_for_best_model=\"eval_loss\",\n",
        "    greater_is_better=False,\n",
        "    report_to=\"none\",\n",
        ")\n",
        "\n",
        "# optimiser, warm-up and cosine decay\n",
        "\n",
        "optimizer = AdamW(model.parameters(), lr=1.5e-5)\n",
        "\n",
        "num_training_steps = len(tokenized_datasets[\"train\"]) // training_args.per_device_train_batch_size * training_args.num_train_epochs\n",
        "num_warmup_steps = int(0.01 * num_training_steps)\n",
        "\n",
        "optimizer = AdamW(model.parameters(), lr=1.5e-5)\n",
        "\n",
        "lr_scheduler = get_scheduler(\n",
        "    name=\"cosine\",\n",
        "    optimizer=optimizer,\n",
        "    num_warmup_steps=num_warmup_steps,\n",
        "    num_training_steps=num_training_steps,\n",
        ")\n",
        "\n",
        "\n",
        "# learning rate logger\n",
        "class LrLoggerCallback(TrainerCallback):\n",
        "    def on_log(self, args, state, control, logs=None, **kwargs):\n",
        "        if logs is not None:\n",
        "            log_message = f\"Step {state.global_step}: \"\n",
        "            if \"learning_rate\" in logs:\n",
        "                log_message += f\"Learning Rate = {logs['learning_rate']:.8f} \"\n",
        "            if \"loss\" in logs:\n",
        "                log_message += f\"Training Loss = {logs['loss']:.4f} \"\n",
        "            if \"eval_loss\" in logs:\n",
        "                log_message += f\"Validation Loss = {logs['eval_loss']:.4f}\"\n",
        "            print(log_message)\n",
        "\n",
        "# trainer\n",
        "trainer = Trainer(\n",
        "    model=model,\n",
        "    args=training_args,\n",
        "    train_dataset=tokenized_datasets[\"train\"],\n",
        "    eval_dataset=tokenized_datasets[\"test\"],\n",
        "    tokenizer=tokenizer,\n",
        "    optimizers=(optimizer, lr_scheduler),\n",
        "    callbacks=[LrLoggerCallback()]\n",
        ")\n",
        "\n",
        "# train model\n",
        "trainer.train()\n",
        "\n",
        "# save the fine-tuned model\n",
        "model.save_pretrained(\"./t5-counterspeech-model\")\n",
        "tokenizer.save_pretrained(\"./t5-counterspeech-model\")\n",
        "\n",
        "print(\"Training complete! Model saved to ./t5-counterspeech-model\")\n",
        "\n",
        "\n"
      ]
    },
    {
      "cell_type": "code",
      "source": [
        "# generate example responses\n",
        "\n",
        "def generate_response(hate_speech, tone):\n",
        "    input_text = f\"<{tone}> Generate an {tone.lower()} counterspeech response to the following: {hate_speech}\"\n",
        "    input_ids = tokenizer(input_text, return_tensors=\"pt\").input_ids.to(model.device)\n",
        "\n",
        "    output_ids = model.generate(\n",
        "        input_ids,\n",
        "        max_length=150,\n",
        "        num_beams=5,\n",
        "        no_repeat_ngram_size=3,\n",
        "        temperature=1.7,\n",
        "        top_p=0.85,\n",
        "        repetition_penalty=1.5,\n",
        "        early_stopping=True\n",
        "    )\n",
        "\n",
        "    response = tokenizer.decode(output_ids[0], skip_special_tokens=True)\n",
        "\n",
        "    response = response.replace(\"<extra_id_0>\", \"\").strip()\n",
        "\n",
        "    return response\n",
        "\n",
        "\n",
        "# Example test\n",
        "print(generate_response(\"Ask a thoughtful question about the statement: Gays are destroying Europe.\", \"Inquisitive\"))\n",
        "print(generate_response(\"Strongly refute the statement with counter-evidence:\", \"Confrontational\"))\n",
        "print(generate_response(\"Muslims are destroying Europe.\", \"Empathetic\"))\n",
        "print(generate_response(\"Muslims are destroying Europe.\", \"Conversational\"))\n",
        "\n"
      ],
      "metadata": {
        "id": "jmbWF7socuzk"
      },
      "execution_count": null,
      "outputs": []
    },
    {
      "cell_type": "code",
      "source": [
        "model_path = \"./t5-counterspeech-tone-model\"\n",
        "save_path = \"/content/drive/My Drive/t5-counterspeech-tone-model\"\n",
        "\n",
        "# save the model & tokenizer\n",
        "model.save_pretrained(save_path)\n",
        "tokenizer.save_pretrained(save_path)\n",
        "print(f\"Model saved to {save_path}\")"
      ],
      "metadata": {
        "id": "1VaL73x3Ll6L"
      },
      "execution_count": null,
      "outputs": []
    }
  ]
}